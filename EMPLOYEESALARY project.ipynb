{
 "cells": [
  {
   "cell_type": "markdown",
   "id": "downtown-response",
   "metadata": {},
   "source": [
    "# Employee Salary project"
   ]
  },
  {
   "cell_type": "markdown",
   "id": "unlike-marathon",
   "metadata": {},
   "source": [
    "this is a multiple linear regression. in this project, salary is dependent variable and EmpId,Name preference,First Name,middle initial,last name,gender,Email,Father name , Mother name,mothers maidan name,Date of birth ,Time of Birth,,age in Yrs, weight in  Kgs,Date of join, Quarter of joining,Half of joining,Year of joining,Month of joining, month name of joining,short DOW,short month,Day of joining,DOW of joining,short DOW,Age  in company(years),last% Hike,SSN, phone no,place Name, country,city,state,zip,region,username,password are independent variable"
   ]
  },
  {
   "cell_type": "raw",
   "id": "controlled-reverse",
   "metadata": {},
   "source": [
    "Y= B0+B1*X1+B1*X2+B1*X3+B1*X4+B1*X5+B1*X6+B1*X7+B1*X8+B1*X9+B1*X10+B1*X11+B1*X12+B1*X13+B1*X14+B1*X15+B1*X16+B1*X17+B1*X18+B1*X19+B1*X20+B1*X21+B1*X22+B1*X23+B1*X24+B1*X24+B1*X25+B1*X26+B1*X27+B1*X28+B1*X29+B1*X30+B1*X31+B1*X32+B1*X33+B1*X33+B1*X34+B1*X35+B1*X36+B1*X37\n",
    "B0:-Constant\n",
    "B1:-Co-eficient\n",
    "Xi:-independent variable\n",
    "Y:- dependent variable\n",
    "    in thid project, Y= Salary\n",
    "    X1=EmpID,\n",
    "    X2=Name Prefix,\n",
    "    X3=preference,\n",
    "    X4=First Name\n",
    "    X5:-Last Name\n",
    "    X6:-gender\n",
    "    X7:-Email\n",
    "    X8:-Father name\n",
    "    X9:-Mother name\n",
    "    X10:-mothers maidan namr\n",
    "    x11:-Date of Birth\n",
    "    X12:-Time of Birth\n",
    "    X13:-age in yrs\n",
    "    X14:-weight in kgs\n",
    "    X15:-Date of joining\n",
    "    X16:-DOW of joining\n",
    "    X17:-short DOW\n",
    "    X18:-Age in company\n",
    "    X19:-last % Hike\n",
    "    X20:-ssn\n",
    "    X21:-phone number\n",
    "    X22:-place Name\n",
    "    X23:-short DOw\n",
    "    X24:-country\n",
    "    X25:-city\n",
    "    X26:-state\n",
    "    X27:-zip,\n",
    "    X28:-region\n",
    "    X29:-username\n",
    "    X30:-password\n",
    "    X31:-Quarter of joining\n",
    "    X32:-half of joining\n",
    "    x33:-middle initial\n",
    "    X34:-year of joining\n",
    "    X35:-Month name of joining\n",
    "    X36:-short month\n",
    "    X37:-city"
   ]
  },
  {
   "cell_type": "raw",
   "id": "sexual-mercy",
   "metadata": {},
   "source": [
    "here i am taking salary as dependent variable  in the last column"
   ]
  },
  {
   "cell_type": "code",
   "execution_count": 2,
   "id": "stuck-plain",
   "metadata": {},
   "outputs": [],
   "source": [
    "#importing Libraries\n",
    "import pandas as pd\n",
    "import numpy as np\n"
   ]
  },
  {
   "cell_type": "code",
   "execution_count": null,
   "id": "welsh-review",
   "metadata": {},
   "outputs": [],
   "source": [
    "df=pd.read_csv('employee_1000_records.csv')"
   ]
  },
  {
   "cell_type": "code",
   "execution_count": null,
   "id": "seven-diana",
   "metadata": {},
   "outputs": [],
   "source": [
    "df.head()"
   ]
  },
  {
   "cell_type": "code",
   "execution_count": null,
   "id": "proof-hundred",
   "metadata": {},
   "outputs": [],
   "source": [
    "x=df.iloc[:,:-1].values\n",
    "#x"
   ]
  },
  {
   "cell_type": "code",
   "execution_count": null,
   "id": "scheduled-bleeding",
   "metadata": {},
   "outputs": [],
   "source": [
    "y=df.iloc[:,1:].values\n",
    "#y"
   ]
  },
  {
   "cell_type": "code",
   "execution_count": null,
   "id": "satisfactory-dividend",
   "metadata": {},
   "outputs": [],
   "source": [
    "x.shape()"
   ]
  },
  {
   "cell_type": "code",
   "execution_count": null,
   "id": "turned-priority",
   "metadata": {},
   "outputs": [],
   "source": [
    "from sklearn.model_selection import train_test_split\n",
    "x_train , x_test , y_train , y_test = train_test_split(x,y,test_size = 0.3 , random_state = 0)"
   ]
  },
  {
   "cell_type": "code",
   "execution_count": null,
   "id": "extreme-treat",
   "metadata": {},
   "outputs": [],
   "source": [
    "x_test.shape"
   ]
  },
  {
   "cell_type": "code",
   "execution_count": null,
   "id": "needed-motorcycle",
   "metadata": {},
   "outputs": [],
   "source": [
    "x_train.shape"
   ]
  },
  {
   "cell_type": "code",
   "execution_count": null,
   "id": "primary-worcester",
   "metadata": {},
   "outputs": [],
   "source": [
    "y_test.shape"
   ]
  },
  {
   "cell_type": "code",
   "execution_count": null,
   "id": "spare-gravity",
   "metadata": {},
   "outputs": [],
   "source": [
    "x_train.shape"
   ]
  },
  {
   "cell_type": "code",
   "execution_count": null,
   "id": "broken-formula",
   "metadata": {},
   "outputs": [],
   "source": [
    "from sklearn.linear_model import LinearRegression"
   ]
  },
  {
   "cell_type": "code",
   "execution_count": null,
   "id": "funded-viking",
   "metadata": {},
   "outputs": [],
   "source": [
    "linearRegression=LinearRegression()"
   ]
  },
  {
   "cell_type": "code",
   "execution_count": null,
   "id": "desirable-magnet",
   "metadata": {},
   "outputs": [],
   "source": [
    "linearRegression.fit(x_train,y_train)"
   ]
  },
  {
   "cell_type": "code",
   "execution_count": null,
   "id": "close-frederick",
   "metadata": {},
   "outputs": [],
   "source": [
    "pred=linearRegression.predict(x_test)\n",
    "pred"
   ]
  },
  {
   "cell_type": "code",
   "execution_count": null,
   "id": "dirty-retro",
   "metadata": {},
   "outputs": [],
   "source": [
    "y_test"
   ]
  },
  {
   "cell_type": "code",
   "execution_count": null,
   "id": "integral-throat",
   "metadata": {},
   "outputs": [],
   "source": [
    "predicted output,pred and y_test is bit comparitively closer"
   ]
  }
 ],
 "metadata": {
  "kernelspec": {
   "display_name": "Python 3",
   "language": "python",
   "name": "python3"
  },
  "language_info": {
   "codemirror_mode": {
    "name": "ipython",
    "version": 3
   },
   "file_extension": ".py",
   "mimetype": "text/x-python",
   "name": "python",
   "nbconvert_exporter": "python",
   "pygments_lexer": "ipython3",
   "version": "3.7.3"
  }
 },
 "nbformat": 4,
 "nbformat_minor": 5
}
